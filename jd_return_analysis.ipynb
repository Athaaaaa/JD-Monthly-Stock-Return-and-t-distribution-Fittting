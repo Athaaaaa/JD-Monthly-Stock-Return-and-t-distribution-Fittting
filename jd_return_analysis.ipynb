{
  "cells": [
    {
      "cell_type": "code",
      "execution_count": 3,
      "id": "8b1cd85f",
      "metadata": {
        "colab": {
          "base_uri": "https://localhost:8080/"
        },
        "id": "8b1cd85f",
        "outputId": "f25157df-b3cb-4564-c8c3-77b0a136ef75"
      },
      "outputs": [
        {
          "output_type": "stream",
          "name": "stdout",
          "text": [
            "  [1]  0.0038923462 -0.0436730013 -0.0050257136 -0.0208492401  0.0000000000\n",
            "  [6] -0.0410057449  0.0073745025 -0.0277439320  0.0139681787  0.0005136364\n",
            " [11] -0.0041162908 -0.0106259906  0.0041601723  0.0235907863 -0.0015216082\n",
            " [16] -0.0207726915 -0.0167236454  0.0149080567 -0.0065112875 -0.0060280355\n",
            " [21] -0.0013152441 -0.0121824333 -0.0174711607 -0.0378551352  0.0042153218\n",
            " [26] -0.0098633742  0.0445871172 -0.0076128430 -0.0118052164 -0.0294262233\n",
            " [31]  0.0197134232  0.0116441016  0.0002756511 -0.0033122581 -0.0074926395\n",
            " [36]  0.0165749094 -0.0137933221  0.0005554013 -0.0064057870 -0.0203224886\n",
            " [41] -0.0348164268 -0.0456065142 -0.0121251913  0.0077894770  0.0251315701\n",
            " [46] -0.0072904940 -0.0141236308 -0.0298155152  0.0003185539  0.0396492715\n",
            " [51] -0.0157337201 -0.0065512322 -0.0301850076  0.0096308611 -0.0616035034\n",
            " [56] -0.1124456611  0.0354846199 -0.0110701866 -0.0157071286  0.0208884503\n",
            " [61]  0.0197374466  0.0046940329 -0.0236934352 -0.0522450741  0.0007770008\n",
            " [66]  0.0444348777  0.0003714020 -0.0164736035 -0.0776861057  0.0012232825\n",
            " [71]  0.0265395542  0.0090855452  0.0256225197 -0.0232658808 -0.0234184149\n",
            " [76]  0.0095923599 -0.0331611063 -0.0292052040  0.0113660664 -0.0046149862\n",
            " [81] -0.0460396212  0.0333436829  0.0404812619 -0.0127600826  0.0200949973\n",
            " [86] -0.0393343615 -0.0148907240 -0.0138111820  0.0227722403 -0.0132565975\n",
            " [91] -0.0653711248  0.0361049603  0.0008861764 -0.0269316097  0.0180347092\n",
            " [96]  0.0496834648  0.0788646593 -0.0565808273  0.0041494251 -0.0230376681\n",
            "[101]  0.0197195398 -0.0719052929 -0.0317486522  0.0141845889  0.0171174904\n",
            "[106]  0.0163902233  0.0613480652 -0.0486869484 -0.0879188168 -0.0798453957\n",
            "[111]  0.0426878771 -0.0540399082  0.0599222292  0.0184025052  0.0255816419\n",
            "[116] -0.0193630616  0.0123224785  0.0360816198 -0.0257722035 -0.0103094163\n",
            "[121] -0.0142317393 -0.0202709644  0.0193149414  0.0458023524  0.0367754462\n",
            "[126] -0.0240652885 -0.0376882840 -0.0146263043 -0.0422290834 -0.0129742339\n",
            "[131]  0.0571026056 -0.0651712323  0.0661195491  0.0280392661  0.0004606312\n",
            "[136] -0.0365894014  0.0161140928 -0.0442167173  0.0901595694  0.0217641280\n",
            "[141]  0.0083133708  0.0317350803 -0.0123170380 -0.0224728996 -0.0374040931\n",
            "[146]  0.0094829790  0.0035890572 -0.0085451837  0.0493492650 -0.0703449705\n",
            "[151]  0.0132876643  0.0058997676  0.0669394404  0.0038014831 -0.0084674089\n",
            "[156]  0.0465199751  0.0084866545 -0.0088925810 -0.0139003873  0.0454714816\n",
            "[161] -0.0122700528 -0.0460460634  0.0004169273  0.0120159305  0.0163401917\n",
            "[166] -0.0028402940 -0.0114427482 -0.0153244253  0.0279853666  0.0016221010\n",
            "[171] -0.0167521793  0.0669306284  0.0092060486  0.0151575086 -0.0235932181\n",
            "[176]  0.0648513356  0.0361485502  0.0055536069  0.0157970664 -0.0109627338\n",
            "[181] -0.0418559770 -0.0287868671  0.0208532159  0.0175852363  0.0007111665\n",
            "[186] -0.0085684212  0.0014332142  0.0074906362  0.0060230477 -0.0081574846\n",
            "[191]  0.0239279537 -0.0267810227  0.0138324251  0.0146855791  0.0120753928\n",
            "[196]  0.0085368454  0.0248501706  0.0361544018 -0.0315216669  0.0006600000\n",
            "[201] -0.0019814736  0.0322031405 -0.0145093306  0.0035661895 -0.0239081307\n",
            "[206]  0.0009939043  0.0121771784 -0.0302197992  0.0083935359 -0.0020080328\n",
            "[211]  0.0053458196 -0.0120685340  0.0043749354 -0.0040377241 -0.0146037576\n",
            "[216] -0.0034270425  0.0249186895  0.0134698968 -0.0023151655 -0.0069779647\n",
            "[221]  0.0019986349 -0.0459654701 -0.0562570678 -0.0088856567  0.0227951418\n",
            "[226]  0.0237080070  0.0003549246  0.0515239278  0.0256211315  0.0006567488\n",
            "[231] -0.0384855940 -0.0329489837  0.0240387119 -0.0286332066 -0.0557216394\n",
            "[236] -0.0143344964 -0.0011404297 -0.0107075973  0.0129871955 -0.0226453738\n",
            "[241]  0.0000000000  0.0395789490 -0.0230241535  0.0019072674  0.0211168861\n",
            "[246]  0.0170185761  0.0267840839 -0.0275180289  0.0109530483 -0.0179525613\n"
          ]
        }
      ],
      "source": [
        "# Read data\n",
        "JD_data <- read.csv(\"JD.csv\")\n",
        "\n",
        "# Calculate the daily logarithmic rate of return\n",
        "JD_data$Return <- c(NA, diff(log(JD_data$Adj.Close)))\n",
        "\n",
        "# Remove rows containing NA\n",
        "JD_data <- na.omit(JD_data)\n",
        "\n",
        "# Output the calculated yield\n",
        "print(JD_data$Return)"
      ]
    },
    {
      "cell_type": "code",
      "execution_count": 4,
      "id": "bcd7765c",
      "metadata": {
        "id": "bcd7765c"
      },
      "outputs": [],
      "source": [
        "# Define the PDF of the Generalized t-distribution\n",
        "dt_G <- function(x, params) {\n",
        "  location <- params[1]\n",
        "  scale <- params[2]\n",
        "  shape <- params[3]\n",
        "  return(dt((x - location) / scale, df = shape) / scale)\n",
        "}\n",
        "\n",
        "# Define the CDF of the Generalized t-distribution\n",
        "pt_G <- function(q, location, scale, shape) {\n",
        "  return(pt((q - location) / scale, df = shape))\n",
        "}"
      ]
    },
    {
      "cell_type": "code",
      "execution_count": 5,
      "id": "5ddf1aa1",
      "metadata": {
        "colab": {
          "base_uri": "https://localhost:8080/"
        },
        "id": "5ddf1aa1",
        "outputId": "0b2f8f4b-c0a7-47d8-c8da-8153272f96a3"
      },
      "outputs": [
        {
          "output_type": "stream",
          "name": "stdout",
          "text": [
            "MLE Results:\n",
            "    location        scale        shape \n",
            "-0.001561329  0.025491936  6.711448675 \n"
          ]
        }
      ],
      "source": [
        "# Define the negative log-likelihood function for Maximum Likelihood Estimation (MLE)\n",
        "neg_log_likelihood <- function(params, data) {\n",
        "  log_density <- sapply(data, function(x) log(dt_G(x, params)))\n",
        "  return(-sum(log_density))\n",
        "}\n",
        "\n",
        "# Prepare return data and initial parameter estimates\n",
        "returns_data <- JD_data$Return\n",
        "initial_params <- c(location = mean(returns_data), scale = sd(returns_data), shape = 5)\n",
        "\n",
        "# Perform MLE to estimate the parameters of the Generalized t-distribution\n",
        "mle_result <- optim(par = initial_params, fn = neg_log_likelihood, data = returns_data,\n",
        "                    method = \"L-BFGS-B\", lower = c(-Inf, 0.001, 2), upper = c(Inf, Inf, Inf))\n",
        "mle_params <- mle_result$par\n",
        "\n",
        "# Print the parameters estimated by MLE\n",
        "cat(\"MLE Results:\\n\")\n",
        "print(mle_params)"
      ]
    },
    {
      "cell_type": "code",
      "execution_count": 10,
      "id": "25726e2b",
      "metadata": {
        "colab": {
          "base_uri": "https://localhost:8080/"
        },
        "id": "25726e2b",
        "outputId": "3f35f5c7-fe01-42ce-ffc4-b4a452842c53"
      },
      "outputs": [
        {
          "output_type": "stream",
          "name": "stdout",
          "text": [
            "\n",
            "fitdistrplus Results:\n",
            "    location        scale        shape \n",
            "-0.001564296  0.025456360  6.708586251 \n"
          ]
        }
      ],
      "source": [
        "# Load the fitdistrplus package for additional fitting methods\n",
        "library(fitdistrplus)\n",
        "\n",
        "# Define the PDF and CDF for use with fitdistrplus\n",
        "ddt_G_fitdistr <- function(x, location, scale, shape) {\n",
        "  return(dt((x - location) / scale, df = shape) / scale)\n",
        "}\n",
        "pdt_G_fitdistr <- function(q, location, scale, shape) {\n",
        "  return(pt((q - location) / scale, df = shape))\n",
        "}\n",
        "\n",
        "# Fit the distribution using fitdistrplus with initial parameter estimates\n",
        "fit_result <- fitdist(JD_data$Return, \"dt_G_fitdistr\", start = list(location = mean(returns_data), scale = sd(returns_data), shape = 5))\n",
        "\n",
        "# Print the parameters estimated by fitdistrplus\n",
        "cat(\"\\nfitdistrplus Results:\\n\")\n",
        "print(fit_result$estimate)"
      ]
    }
  ],
  "metadata": {
    "kernelspec": {
      "display_name": "R",
      "name": "ir"
    },
    "colab": {
      "provenance": []
    }
  },
  "nbformat": 4,
  "nbformat_minor": 5
}